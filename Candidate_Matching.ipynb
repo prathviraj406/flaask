{
 "cells": [
  {
   "cell_type": "code",
   "execution_count": 1,
   "id": "ee1967a3",
   "metadata": {},
   "outputs": [],
   "source": [
    "import numpy as np\n",
    "import pandas as pd"
   ]
  },
  {
   "cell_type": "code",
   "execution_count": 2,
   "id": "828ad235",
   "metadata": {},
   "outputs": [],
   "source": [
    "job_df = pd.read_csv(\"D:/Candidate-Matching-main/data/cleaned_recommendation.csv\")"
   ]
  },
  {
   "cell_type": "code",
   "execution_count": 3,
   "id": "0b4e1456",
   "metadata": {},
   "outputs": [
    {
     "data": {
      "text/html": [
       "<div>\n",
       "<style scoped>\n",
       "    .dataframe tbody tr th:only-of-type {\n",
       "        vertical-align: middle;\n",
       "    }\n",
       "\n",
       "    .dataframe tbody tr th {\n",
       "        vertical-align: top;\n",
       "    }\n",
       "\n",
       "    .dataframe thead th {\n",
       "        text-align: right;\n",
       "    }\n",
       "</style>\n",
       "<table border=\"1\" class=\"dataframe\">\n",
       "  <thead>\n",
       "    <tr style=\"text-align: right;\">\n",
       "      <th></th>\n",
       "      <th>uniq_id</th>\n",
       "      <th>jobtitle</th>\n",
       "      <th>company</th>\n",
       "      <th>jobdescription</th>\n",
       "      <th>advertiserurl</th>\n",
       "    </tr>\n",
       "  </thead>\n",
       "  <tbody>\n",
       "    <tr>\n",
       "      <th>0</th>\n",
       "      <td>90d755eb5b34547c31978ce7a6eb519f</td>\n",
       "      <td>full stack developer</td>\n",
       "      <td>Saicon Consultants Inc.</td>\n",
       "      <td>proficient in restful web servicesproficient i...</td>\n",
       "      <td>https://www.dice.com/jobs/detail/Full-Stack-De...</td>\n",
       "    </tr>\n",
       "    <tr>\n",
       "      <th>1</th>\n",
       "      <td>4b072aab5c96491c2d7f6731772b8825</td>\n",
       "      <td>full stack java engineer</td>\n",
       "      <td>RedRiver Systems L.L.C.</td>\n",
       "      <td>opportunity for an open / full stack java engi...</td>\n",
       "      <td>https://www.dice.com/jobs/detail/Full-Stack-Ja...</td>\n",
       "    </tr>\n",
       "  </tbody>\n",
       "</table>\n",
       "</div>"
      ],
      "text/plain": [
       "                            uniq_id                  jobtitle  \\\n",
       "0  90d755eb5b34547c31978ce7a6eb519f      full stack developer   \n",
       "1  4b072aab5c96491c2d7f6731772b8825  full stack java engineer   \n",
       "\n",
       "                   company                                     jobdescription  \\\n",
       "0  Saicon Consultants Inc.  proficient in restful web servicesproficient i...   \n",
       "1  RedRiver Systems L.L.C.  opportunity for an open / full stack java engi...   \n",
       "\n",
       "                                       advertiserurl  \n",
       "0  https://www.dice.com/jobs/detail/Full-Stack-De...  \n",
       "1  https://www.dice.com/jobs/detail/Full-Stack-Ja...  "
      ]
     },
     "execution_count": 3,
     "metadata": {},
     "output_type": "execute_result"
    }
   ],
   "source": [
    "job_df.head(2)"
   ]
  },
  {
   "cell_type": "code",
   "execution_count": 4,
   "id": "7bd5de09",
   "metadata": {},
   "outputs": [],
   "source": [
    "from sklearn.feature_extraction.text import TfidfVectorizer\n",
    "from sklearn.metrics.pairwise import cosine_similarity"
   ]
  },
  {
   "cell_type": "code",
   "execution_count": 5,
   "id": "65520102",
   "metadata": {},
   "outputs": [],
   "source": [
    "job_df['clean_text'] = job_df['jobtitle']+\" \"+job_df['jobdescription']"
   ]
  },
  {
   "cell_type": "code",
   "execution_count": 6,
   "id": "d55d267e",
   "metadata": {},
   "outputs": [],
   "source": [
    "tfidf = TfidfVectorizer(stop_words='english')\n",
    "matrix = tfidf.fit_transform(job_df['clean_text'])\n",
    "similarity = cosine_similarity(matrix)"
   ]
  },
  {
   "cell_type": "code",
   "execution_count": 7,
   "id": "a7d109c6",
   "metadata": {},
   "outputs": [
    {
     "data": {
      "text/plain": [
       "array([[1.        , 0.09169937, 0.09633015, ..., 0.0441837 , 0.03547016,\n",
       "        0.13621698],\n",
       "       [0.09169937, 1.        , 0.11257277, ..., 0.06774655, 0.1041141 ,\n",
       "        0.11933016],\n",
       "       [0.09633015, 0.11257277, 1.        , ..., 0.08128874, 0.05388107,\n",
       "        0.13560553],\n",
       "       ...,\n",
       "       [0.0441837 , 0.06774655, 0.08128874, ..., 1.        , 0.0644002 ,\n",
       "        0.11406638],\n",
       "       [0.03547016, 0.1041141 , 0.05388107, ..., 0.0644002 , 1.        ,\n",
       "        0.04542798],\n",
       "       [0.13621698, 0.11933016, 0.13560553, ..., 0.11406638, 0.04542798,\n",
       "        1.        ]])"
      ]
     },
     "execution_count": 7,
     "metadata": {},
     "output_type": "execute_result"
    }
   ],
   "source": [
    "similarity"
   ]
  },
  {
   "cell_type": "code",
   "execution_count": 8,
   "id": "cdfd9a15",
   "metadata": {},
   "outputs": [
    {
     "data": {
      "text/plain": [
       "[(356, 0.21647200879416972),\n",
       " (124, 0.18728896818333113),\n",
       " (220, 0.18727122072763602),\n",
       " (263, 0.18463241474535402),\n",
       " (272, 0.1769192904878346),\n",
       " (469, 0.17616386290430153),\n",
       " (131, 0.1749052295664906),\n",
       " (562, 0.16992223887523597),\n",
       " (312, 0.1669008704505569),\n",
       " (216, 0.16482439669919602),\n",
       " (607, 0.16408240409002428),\n",
       " (724, 0.1638867117151132),\n",
       " (348, 0.16227296138113606),\n",
       " (20, 0.15754384784544598),\n",
       " (454, 0.15745565387091612),\n",
       " (352, 0.1566962699112247),\n",
       " (75, 0.1558019965307381),\n",
       " (111, 0.1556224163684578),\n",
       " (633, 0.155534918787598)]"
      ]
     },
     "execution_count": 8,
     "metadata": {},
     "output_type": "execute_result"
    }
   ],
   "source": [
    "sorted(list(enumerate(similarity[0])), key=lambda x: x[1], reverse=True)[1:20]"
   ]
  },
  {
   "cell_type": "markdown",
   "id": "f5d126d7",
   "metadata": {},
   "source": [
    "# Recommendation System"
   ]
  },
  {
   "cell_type": "code",
   "execution_count": 9,
   "id": "2dec7e94",
   "metadata": {},
   "outputs": [],
   "source": [
    "def recommend(title):\n",
    "    title = title.lower()\n",
    "    if title not in job_df['jobtitle'].str.lower().values:\n",
    "        return f\"The job title '{title}' does not exist in the dataset.\"\n",
    "\n",
    "    # Get the index of the job title\n",
    "    indx = job_df[job_df['jobtitle'].str.lower() == title].index[0]\n",
    "    indx = job_df.index.get_loc(indx)\n",
    "\n",
    "    # Compute the distances and get recommendations\n",
    "    distances = sorted(list(enumerate(similarity[indx])), key=lambda x: x[1], reverse=True)[1:20]\n",
    "\n",
    "    # Create a list to store job details\n",
    "    jobs = []\n",
    "    for i in distances:\n",
    "        job_details = {\n",
    "            'uniq_id': job_df.iloc[i[0]].uniq_id,\n",
    "            'jobtitle': job_df.iloc[i[0]].jobtitle,\n",
    "            'company': job_df.iloc[i[0]].company,\n",
    "            'jobdescription': job_df.iloc[i[0]].jobdescription,\n",
    "            'advertiserurl': job_df.iloc[i[0]].advertiserurl\n",
    "        }\n",
    "        jobs.append(job_details)\n",
    "    \n",
    "    return jobs\n",
    "\n",
    "\n"
   ]
  },
  {
   "cell_type": "code",
   "execution_count": 10,
   "id": "bcb9affb",
   "metadata": {},
   "outputs": [
    {
     "data": {
      "text/plain": [
       "[{'uniq_id': '1a84daa8f121b212e36750b6f64d09c8',\n",
       "  'jobtitle': 'full stack java developer',\n",
       "  'company': 'Kforce Inc.',\n",
       "  'jobdescription': 'responsibilities:a kforce client in plano, texas (tx) is looking to hire full stack java developers.technology stack:* backend: java, spring, restful services using jersey/jax-rs* frontend: react js, angular js, bootstrap (at least one of these frameworks)essential functions:* an innovative and resourceful engineer who are passionate about creating high-quality, high performance and highly available software* love to develop highly scalable web applications and services that deliver delight to our customers* ready to roll up your sleeves and tackle technical problems and deliver products that delight customers* excited by working on a startup-like team, contributing to the vision and execution of cutting-edge products that solves problems and provides important benefits for our customers* display leadership qualities for other team members, including sharing knowledge, experiences and skills with others. provide design reviews, coaching, and give feedbackrequirements:* bs/masters in computer science or related field* 5+ years of software development experience* must possess a minimum of 2 years of working experience with these technologies* a solid foundation in software engineering with strong competencies in data structure, algorithms and software design* proven experience in software best practices, like test-driven development (tdd), ci/cd and simple design concepts* experience working with agile methodologies, such as extreme programming (xp) and scrum* strong analytical skills and object-orientated design capabilities* willingness to learn new technologies and skills* ability to troubleshoot and analyze application issues to identify root cause* excellent communication, teamwork, and leadership skills* applies full understanding of the software engineering discipline and industry best practicestechnologies they use (the more of these you know, the better):* java, spring, javascript/ajax, html/dom, css, jquery, oracle, nosql technologies like cassandra & mongo db* good understanding modern javascript frameworks like angular js, bootstrap, reactjs, backbone, extjs, ember and knockout* experience with mean stack, specifically nodejs experience a plus* experience with web application development using restful services jax-rs* experience with test driven development (tdd) - junits and any front end java script testing* experience designing applications to run on cloud environments like aws a pluskforce is an equal opportunity/affirmative action employer. all qualified applicants will receive consideration for employment without regard to race, color, religion, sex, pregnancy, sexual orientation, gender identity, national origin, age, protected veteran status, or disability status.',\n",
       "  'advertiserurl': 'https://www.dice.com/jobs/detail/Full-Stack-Java-Developer-Kforce-Inc.-Plano-TX-75023/kforcecx/ITWQG1586930?icid=sr330-11p&q=&l=Dallas,%20TX'},\n",
       " {'uniq_id': 'dab0029faf9dc7f05b4d92fd5e4685e3',\n",
       "  'jobtitle': 'full stack developer',\n",
       "  'company': 'IBA Software Technologies',\n",
       "  'jobdescription': \"from the manager:we\\xa0need true developers - their experience should include time developing features / functionality for a commercial saas-based or web based product.\\xa0if most of their experience is java or .net but recently they used javascript frameworks that's fine - someone with all js development will be hard to find.\\xa0 keywords that would be good to look for:\\xa0 node.js, express, koa, hapi, strapi, restify, angular, react, ember, express.\\xa0 even technologies such as: kendo, extjs, sencha, jquery show product development experience in js frameworksjob requirements (not everything listed below is a must)\\xa0\\xa0\\xa0\\xa0\\xa0\\xa0experience working on a web / mobile application in one or more areas of the following tech stack:o\\xa0\\xa0 html 5 / css 3 / javascript (experience with one or more of the following preferred: bootstrap, semantic ui, ember.js, angularjs, react)o\\xa0\\xa0 rest-based web services (node.js experience preferred)o\\xa0\\xa0 sql data storage and reporting (postgresql experience preferred)\\xa0\\xa0\\xa0\\xa0\\xa0\\xa0 agile sdlc work experience\\xa0\\xa0\\xa0\\xa0\\xa0\\xa0 linux / osx / bash familiarity\\xa0\\xa0\\xa0\\xa0\\xa0\\xa0 unit / integration testing\\xa0\\xa0\\xa0\\xa0\\xa0\\xa0 continuous integration\\xa0\\xa0\\xa0\\xa0\\xa0\\xa0\\xa0experience working with globally distributed team members\\xa0education\\xa0\\xa0\\xa0\\xa0\\xa0\\xa0 bachelors / masters degree in computer science / data science / computer engineering or equivalent experience\",\n",
       "  'advertiserurl': 'https://www.dice.com/jobs/detail/Full-Stack-Developer-IBA-Software-Technologies-Westborough-MA-01581/10116697/747900?icid=sr2190-73p&q=&l=Boston,%20MA'},\n",
       " {'uniq_id': '7e8bcea2f4cdc698b6d614850ca397f2',\n",
       "  'jobtitle': 'full stack developer',\n",
       "  'company': 'Connections of New York',\n",
       "  'jobdescription': \"job descriptionthe talented full stack developer will translate business requirements into homegrown enterprise applications. day to day responsibilities will be to serve as the primary developer on nodejs content management tools and projects.responsibilities-responsible for coding application, testing software as needed.-strong written and verbal communication skills.-collaboration with team of developers.skills & requirements-bachelor's degree-5+ years of experience in javascript development or similar server side languages.-5 years of experience with relational data models in other ecosystems, like java, python or ruby.-1-2 years of experience in nodejs development and frameworks including express and angular.-proficiency in html5, css.-familiarity with postgresql, mongodb, mysql-familiarity with traditional rdbms (oracle, mssql)-familiarity with jira-proficiency in git, writing test cases and performing code reviews-experience with restful api development or integration-familiarity with angularjs 1.2+. this includes directives, controllers, services, modules, and states.-thorough understanding of promises and async features of es6 and es6+-experience using orms and relational data in the nodejs stack.-experience with the data mapper pattern.\",\n",
       "  'advertiserurl': 'https://www.dice.com/jobs/detail/Full-Stack-Developer-Connections-of-New-York-New-York-NY-10016/10115962/FP125?icid=sr62114-2071p&q=&l=California,%20Us,%20CALIFORNIA'},\n",
       " {'uniq_id': '46f2bc2900542440efee345fc72bbb0b',\n",
       "  'jobtitle': 'senior full-stack developer',\n",
       "  'company': 'Gunther Douglas, Inc.',\n",
       "  'jobdescription': 'gunther douglas’ client is seeking a senior full-stack developer for a 6 month\\xa0contract-to-hire opportunity located in superior, co. the candidate will be part of a collaborative team that utilizes cutting edge technologies, and will be working on an existing react.js/backbone.js/ruby on rails web application.\\xa0duties:-design, implement, and create unit tests for new features on website-enhance existing ui features-front end features will be implemented using react.js and will interface with internal and external restful services-will be responsible for working with the product owner, the customer, and the ui developer to define, design and implement new features for website\\xa0required skills:-bs computer science or equivalent required-experience with backend services development in one or more of the following technologies: ruby on rails, java, c#, linux-front-end development using javascript, backbone.js, angular.js or similar libraries-experience interfacing with restful services-experience translating user stories into new features and defining/updating new endpoints with backend team-experience working with databases such as mysql or oracle and writing sql queries-react.js experience or willing to learn react.jsdesired skills:-node.js experience-tdd experience with a unit test framework, preferably jasmine-understands how to optimize front end-experience with search engines, e.g. elastic search-experience with nosql – mongodb, cassandra, etc.-have strong communication skills, and be able to work as well with the other developers as they do the customer and product owner\\xa0note:\\xa0these positions require w2 employment status only.\\xa0 no third party candidates or subcontractors will be accepted at this time.',\n",
       "  'advertiserurl': 'https://www.dice.com/jobs/detail/Senior-Full%2526%252345Stack-Developer-Gunther-Douglas%252C-Inc.-Superior-CO-80027/guntherd/11390HW?icid=sr57763-1926p&q=&l=California,%20Us,%20CALIFORNIA'},\n",
       " {'uniq_id': 'c82b9202d78c808fe91e95078f5189f8',\n",
       "  'jobtitle': 'full stack engineer - python/angular. popular wearable devices!',\n",
       "  'company': 'CyberCoders',\n",
       "  'jobdescription': \"minimum required skills:javascript, python, angular, django, sqllocated in beautiful redwood city, ca, near caltrain, make wearable health devices and provide the wearables platform used by multi-billion dollar oem, wellness, and healthcare customers. we are a small group of bright, passionate people who are making a major impact on the quality of people's lives, and we are working hard to keep up with demand for our products. over the past few years we have grown by triple-digits and will continue to do so in the years to come. we are located in redwood city within walking distance of caltrain.what you will be doingin this position, you will develop desktop and mobile web experiences that help people live healthier, more productive lives. working closely with other smart, dedicated engineers and product managers, you'll shape our platform scaling and api strategy, write clean, sustainable code, and contribute your ideas into practice to keep improve our users experience and continually improve quality.what you need for this position- bs in computer science or engineering (or relevant experience)- 4+ years experience working with multiple architectures and coding languages (front- and back-end technologies)- expert knowledge developing apis using python, ruby, .net, or java - experience with a python web framework (django, flask, webapp2)- expert knowledge of html5, css3 and modern web development techniques (sass/less, browserify, require.js, webpack, gulp.js)- solid knowledge of a modern javascript mvc framework (angularjs, react, ember.js, backbone.js) and node.js modules- experience with database technologies and database design (e.g. sql or nosql, mysql, postgres, mongodb, etc.)- experience with google app engine (or amazon aws) and google cloud datastore- experience with oauth 2.0 and 3rd party authentication schemes- experience with version control using git- familiarity with 3rd party charting libraries (highcharts, fusioncharts)what's in it for you- competitive salary and equity options- cutting edge technology- brilliant colleagues who share your passion for wearable technoloy- catered lunches- unlimited snacks- happy hours- casual dress code- first to own the latest wearable technologyif you're a talented full-stack engineer with a passion for iot and wearables, we want to talk to you today. please apply!applicants must be authorized to work in the u.s.please apply directly to by clicking 'click here to apply' with your word resume!looking forward to receiving your resume and going over the position in more detail with you.- not a fit for this position? click the link at the bottom of this email to search all of our open positions.looking forward to receiving your resume!cybercoderscybercoders, inc is proud to be an equal opportunity employerall qualified applicants will receive consideration for employment without regard to race, color, religion, sex, national origin, disability, protected veteran status, or any other characteristic protected by law.your right to work - in compliance with federal law, all persons hired will be required to verify identity and eligibility to work in the united states and to complete the required employment eligibility verification document form upon hire.copyright © 1999 - 2016. cybercoders, inc. all rights reserved.\",\n",
       "  'advertiserurl': 'https://www.dice.com/jobs/detail/Full-Stack-Engineer-%2526%252345-Python%2526%252347Angular.-Popular-Wearable-Devices%2521-CyberCoders-Redwood-City-CA-94061/cybercod/JB6-12891892?icid=sr3703-124p&q=&l=San%20Jose,%20CA'},\n",
       " {'uniq_id': '7045c678aeb88daf505574866134eb41',\n",
       "  'jobtitle': 'big data engineer',\n",
       "  'company': 'NTT DATA, Inc.',\n",
       "  'jobdescription': 'title: big data engineerlocation: south boston, maduration: 6 monthsonsite: yesremote: nothe big data engineering team is a group of engineers that are passionate about data. we are responsible for the complete data pipeline from processing raw data to applying analysis of the data. our team is responsible for the designing and development of tools and systems for the entire lifecycle of data; data collection, data processing, monitoring, data quality and correction, data access platforms and more.we are looking a driven big data engineer to help us build the next generation platform for tv analytics.work on building enterprise grade big data pipelines utilizing hadoop stack of technologies. perform automation, workflow management, data collection, data processing, monitoring, data quality & correction and manage data access platforms to ensure the delivery and quality of data to the analytics platform. the qualified candidate would be passionate about data and skilled in operating in big data environment.top four must haves as follows:multi-year hands on experience with hadoop eco system – hdfs, hive, pig, hbasedeep expertise in writing complex sql and etl batch processeshands on experience with etl tool (pentaho kettle or similar)proficiency with scripting language – python and shell scriptgood to have:ability to performance tune the sqlhands on experience with apache sparkexperience on amazon web servicesthe company is an equal opportunity employer and makes employment decisions on the basis of merit and business needs. the company will consider all qualified applicants for employment without regard to race, color, religious creed, citizenship, national origin, ancestry, age, sex, sexual orientation, genetic information, physical or mental disability, veteran or marital status, or any other class protected by law. to comply with applicable laws ensuring equal employment opportunities to qualified individuals with a disability, the company will make reasonable accommodations for the known physical or mental limitations of an otherwise qualified individual with a disability who is an applicant or an employee unless undue hardship to the company would result.',\n",
       "  'advertiserurl': 'https://www.dice.com/jobs/detail/Big-Data-Engineer-NTT-DATA%252C-Inc.-Boston-MA-02210/CUEDATA/16-08399?icid=sr2600-87p&q=&l=Boston,%20MA'},\n",
       " {'uniq_id': 'b6faa368e75195d92e5ee4d18abec19b',\n",
       "  'jobtitle': 'back end developer',\n",
       "  'company': 'New York University',\n",
       "  'jobdescription': 'job title: back end developerposition summarythe databrary project is looking for a smart, energetic and flexible back end developer to join itstechnical team. the developer will act as the primary owner of the code base of our service.working closely with the managing director and the service team, the developer will design, developand maintain tools to enable behavioral researchers to collaborate, store, discover, exploreand access video-based research datasets. (s)he will maintain an existing code base andbuild new features, enhancements and integrations.databrary (databrary.org) is the leading open source video data-sharing system for developmentalscience. datavyu (datavyu.org) is the leading free, open source, multi-platform videocoding tool. this position provides a unique opportunity to play a central role in advancing openscience through data sharing and reuse.the ideal candidate is a self starter who is not afraid of learning new technologies, thinks out ofthe box, takes initiative, has excellent attention to detail and can work to take tasks to fruitionboth collaboratively in a team and independently. the developer will adapt to the evolving andgrowing needs of the project.essential responsibilities/functions:● research and evaluationthe developer will analyze and understand current system and application architecture, logicaland physical data models, security and storage implementation as well as the code base, documentit thoroughly, formulate high level architectural and call graph diagrams and make recommendationsto the managing director on a future strategic direction.● development and maintenancethe developer will maintain existing code base and troubleshoot to improve application reliabilityand performance. (s)he will lead development, manage releases, deploy code, and track bugand qa progress. (s)he will build dynamic, modular and responsive web applications by implementingclean, reusable, well designed and well tested code to add enhancements, featuresand new integrations to the platform in current technologies (haskell, postgresql, angularjs)or any other secure, modern, sustainable web frameworks.● innovation in data managementthe developer will work closely with experts in the field to understand the complete data lifecycleand management for researchers. (s)he will advocate for and become a force of innovationat each step of activities undertaken in relation to the collection, processing, description, transformation,retention and reuse of research data. (s)he will design, develop, implement, test andvalidate existing and new data management and web-based tools to facilitate research.preferred skills, knowledge and abilities:● hands-on experience with functional languages like haskell, ocaml, f#, or scala.● knowledge of modern web frameworks in high-level languages such as java, ruby,python or php and video technologies.● knowledge of javascript, js frameworks, html, css and other front end technologies.● understanding of best practices in sdlc (software development life cycle).● understanding of tdd (test-driven development), security and design patterns.● experience with version control, unix scripting, automation and devops practices.● familiarity using crm, project management and task management systems.● passion for open source projects and building high quality software.● strong written and oral communication skills.● superior listening and analytical skills and a knack for tackling tough problems.● ability to multitask and juggle multiple priorities and projects.● adaptability and openness to learn and change.required experience:● track record of designing scalable software for web applications in modern web frameworks.● exceptional understanding of system architecture, object oriented principles, web technologies,rest api and mvc patterns.● solid knowledge of sql and rdbms like postgresql.● basic knowledge of scientific practices and research tools, such as matlab, spss, or r.preferred education:● bs, ms or ph.d in computer science, information technology or other relevant field.to apply send the following to jobs@databrary.org:● one page cover letter (pdf)● resume (pdf)we will review applications beginning immediately and consider candidates until the position isfilled. for more information, visit our website at https://databrary.org/about/jobs.html.new york university is an equal opportunity employer. new york university is committed to a policy of equal treatment and opportunityin every aspect of its hiring and promotion process without regard to race, color, creed, religion, sex, pregnancy or childbirth(or related medical condition), sexual orientation, partnership status, gender and/or gender identity or expression, marital or parentalstatus, national origin, ethnicity, alienage or citizenship status, veteran or military status, age, disability, predisposing genetic characteristics,domestic violence victim status, unemployment status, or any other legally protected basis. women, racial and ethnic minorities,persons of minority sexual orientation or gender identity, individuals with disabilities, and veterans are encouraged to applyfor vacant positions at all levels.',\n",
       "  'advertiserurl': 'https://www.dice.com/jobs/detail/Back-End-Developer-New-York-University-New-York-NY-10003/10414695/733392?icid=sr10678-356p&q=&l=New%20York,%20NY'},\n",
       " {'uniq_id': 'aa89e597752bda175428806d95899354',\n",
       "  'jobtitle': 'react.js consultant',\n",
       "  'company': 'Xoriant Corporation',\n",
       "  'jobdescription': 'react.js \\xa0experience, strong in javascript frameworks like angular/backbone/react, \\xa0designing for responsive ui with bootstrap, less/sass , css ,html , javascript ,excellent communication and experience working in an onsite/offshore model\\u200b.',\n",
       "  'advertiserurl': 'https://www.dice.com/jobs/detail/React.js-consultant-Xoriant-Corporation-Los-Angeles-CA-90001/xorca001/7812?icid=sr29009-967p&q=&l=California,%20Us,%20CALIFORNIA'},\n",
       " {'uniq_id': '2509fa6c3f1a1e543b2a625a43c989ed',\n",
       "  'jobtitle': 'data engineer- willing to learn new technologies!!',\n",
       "  'company': 'CyberCoders',\n",
       "  'jobdescription': \"minimum required skills:java, scala, scm/unit tests, sql, nosql, algorithms, data manipulation, python, cassandra, hadoopif you are a data engineer with experience in service based infrastructure , please read on!job title: data engineerlocation: san mateo, casalary: $110- 175k + equity optionsthe company: we are a mid-stage start up that has created a cognitive platform that brings advanced insights to health care. our platform provides solutions that provide more accurate risk adjustments by creating digitized medical records. we are looking to add the best and brightest to our team!!what you will be doing- build cutting edge large scale data service layers- develop applications and big data infrastructure- production processing of large data sets- interface between front end structures and data pipelines- building scale-able micro service layer - implement data science experimentswhat you need for this positionrequirements:bachelors in computer sciencepreferred- masters or phd- at least 3 years of experience and knowledge of:- java/scala- python- hadoop, yarn, spark, kaka, hive, pig, or storm- scm/ unit tests- deploying customer- facing software- service based infrastructurepluses:- data science algorithms- data manipulation- python- data services- mysql, no sql, cassandra, redis, elasticsearch, or rest- willing to learn new technologieswhat's in it for you- competitive salary- full benefits- great work environment- immediate hire- equity options- lunch 4 times a week+ fully stocked fridge!!so, if you are a data engineer with experience, please apply today!applicants must be authorized to work in the u.s.please apply directly to by clicking 'click here to apply' with your word resume!looking forward to receiving your resume and going over the position in more detail with you.- not a fit for this position? click the link at the bottom of this email to search all of our open positions.looking forward to receiving your resume!cybercoderscybercoders, inc is proud to be an equal opportunity employerall qualified applicants will receive consideration for employment without regard to race, color, religion, sex, national origin, disability, protected veteran status, or any other characteristic protected by law.your right to work - in compliance with federal law, all persons hired will be required to verify identity and eligibility to work in the united states and to complete the required employment eligibility verification document form upon hire.copyright © 1999 - 2016 . cybercoders, inc. all rights reserved.\",\n",
       "  'advertiserurl': 'https://www.dice.com/jobs/detail/Data-Engineer%2526%252345-Willing-to-learn-new-technologies%2521%2521-CyberCoders-San-Mateo-CA-94401/cybercod/AW2-130720861?icid=sr34693-1157p&q=&l=California,%20Us,%20CALIFORNIA'},\n",
       " {'uniq_id': 'df8acf62252b99aa407e1758f1ba5255',\n",
       "  'jobtitle': 'software engineer mean, angular.js, node.js, mysql',\n",
       "  'company': 'Riccione Resources, Inc.',\n",
       "  'jobdescription': 'software engineer mean, angular.js, node.js, mysqlreshape the digital mobile commerce industry using your innovative development skills creating cutting edge technology.\\xa0\\xa0 our client is currently seeking a full stack engineer to assist in developing new applications built on their mean stack.\\xa0why should i apply here?4 years in operation, just completed 2nd(b) round of funding.executive management with past successes and expertise in market niche.established large (fortune 500) corporate clients and revenue stream.leader in the technology domain.growing space, saves firms time and money to utilize technology. digital revolution of space.cutting edge technology: cloud, social networking, saas, data analytics, mobile.creating a platform enables brands, agencies and merchants to deliver single-use mobile offerings.what will i be doing?develop web services and web application software using agile development methodologies.develop and maintain every layer of the application stack: front-end, server, and database.participate in the evaluation and selection of frameworks for front-end and server side development.participate in agile methodologies including peer reviews, scrum, sprint management, and continuous integration.create and maintain bdd and tdd test scripts.\\xa0what skills/experiences do i need to be considered?bs cs or related2+ years experience with client side technologies such as javascript, html, and css.2+ years experience with node.js2+ years experience working with relational databases such as mysqlstrong understanding of ooa, ood, design patterns, and web architecture.experience using frontend open-source or 3rd party web frameworks such as angular, jquery, backbone, bootstrap, ember, knockout, spine, react, etc.extensive knowledge of html 5, css 3, and web/mobile standards.great problem solving and debugging skills.what will make my résumé stand out?experience using message queues such as rabbitmq or activemqexperience in c# or other .net languages.experience developing with ios or androidexperience working in startups with distributed development teamssalary:\\xa0\\xa0 75k - 90k + stock optionslocation: dallas, tx (no assistance relocating)u.s. citizens and those authorized to work in the u.s. are encouraged to apply. we are unable to sponsor at this time. sw1172',\n",
       "  'advertiserurl': 'https://www.dice.com/jobs/detail/Software-Engineer--MEAN%252C-Angular.js%252C-Node.js%252C-MySQL-Riccione-Resources%252C-Inc.-Dallas-TX-75252/10105891/WS1172?icid=sr60408-2014p&q=&l=California,%20Us,%20CALIFORNIA'},\n",
       " {'uniq_id': 'c7c8d6e9891652b412255dce21cbe9a7',\n",
       "  'jobtitle': 'ui engineer/technical lead',\n",
       "  'company': 'Accelon Inc',\n",
       "  'jobdescription': 'responsibilities\\xa0contribute to the design and development of new web applications and features\\xa0maintain and improve existing web applications\\xa0profile and optimize the code to get the best possible performance across browsers and operating systems\\xa0work closely with designers and other developers in a tightly knit, agile team\\xa0demonstrate a dedication to code quality\\xa0managed code with unit tests and github\\xa0keep your ear to the ground and help us incorporate industry best practices and important developments into our products\\xa0conduct code reviews and lead development teams to improve skills and practices\\xa0introduce and drive coding standards and practices\\xa0qualifications\\xa0bs/ms degree in computer science, engineering or a related subject\\xa05+ years of professional experience\\xa05+ years of experience with web application technologies such as java, java script, html, css, node js, angular js,\\xa02+ year experience with using cloud platforms such as aws, heroku\\xa0intermediate knowledge of mysql or postgresql\\xa0strong understanding of object-oriented programming, the mvc paradigm, and service-oriented design\\xa0experience and interested in frontend development\\xa0experience with third-party apis and web services\\xa0working knowledge of the general web application landscape, architectures, trends, and emerging technologies\\xa0experience with agile development, preferably scrum\\xa0experience with perforce deployment and code management\\xa0experience with jenkins for continuous integration/continuous deployment\\xa0success factors\\xa0demonstrated commitment to high quality user facing and back end code that is usable, maintainable and well thought out\\xa0ability to work both collaboratively and independently\\xa0self-directed learner who has quickly learned new programming languages\\xa0open to modification of the work we do, based on customer feedback and other data we acquire\\xa0self motivated\\xa0get stuff done',\n",
       "  'advertiserurl': 'https://www.dice.com/jobs/detail/UI-Engineer%2526%252347Technical-Lead-Accelon-Inc-San-Francisco-CA-94101/90887031/628916?icid=sr8011-268p&q=&l=San%20Jose,%20CA'},\n",
       " {'uniq_id': '9901702829afb59ff21cc0f24c8eecf1',\n",
       "  'jobtitle': 'software eng - .net, full-stack dev, perm hire with us!',\n",
       "  'company': 'Reed Business Information',\n",
       "  'jobdescription': 'accuity/nrs\\xa0software engineer\\xa0\\xa0accuity is a market leading online data brand currently worth $240m annually and growing quickly; you’ll be working in a cross-functional team, working alongside colleagues from a variety of technical and commercial functions – this makes us more agile, and builds greater understanding and closer relationships between technology and other business areas, it also means that you learn more, have a more varied role, and further diversify your skills!\\xa0job description\\xa0the position will be assigned and required to be specialized in various areas of development throughout the software development lifecycle, and should have the ability to work and solve problems including the design of the program flow of individual pieces of code, effective coding, and unit testing.\\xa0key responsibilities and technical skills\\xa0•\\xa0proficiency in development languages including but not limited to: c# / asp.net, angularjs/jquery, javascript, html5, html, xml, sql. •\\xa0proficiency in development framework including but not limited to: .net, web forms / mvc 3.0+, entity framework, wcf, tpl, iis, (plus+ tsql, ssrs, sql services)•\\xa0familiarity of industry best practices — code coverage.• ability to work well with internal and external technology resources.• ability to write and review portions of detailed specifications for the development of system components of moderate complexity.• knowledge of software development methodologies (e.g., agile, waterfall), and sdlc ceremonies.• knowledge of test-driven development (tdd).•\\xa0understanding of normalized/dimensional data modeling principles• ability to write and review portions of detailed specifications for the development of system components of moderate complexity.• ability to complete moderately complex bug fixes.• good oral and written communications skills.\\xa0\\xa0experience (us only) and education\\xa0\\xa0• 3+ years of software engineering experience• bs engineering/computer science or equivalent experience required\\xa0about reed business information \\xa0accuity is part of reed business information (rbi) which provides information, analytics and data to business professionals worldwide. our strong global products and services hold market-leading positions across a wide range of industry sectors including banking, petrochemicals and aviation where we help customers make key strategic decisions every day.\\xa0 rbi is part of relx group plc, a world-leading provider of information solutions for professional customers across industries.\\xa0\\xa0rbi is an equal opportunity employer: qualified applicants are considered for and treated during employment without regard to race, color, creed, religion, sex, national origin, citizenship status, disability status, protected veteran status, age, marital status, sexual orientation, gender identity, genetic information, or any other characteristic protected by law. if a qualified individual with a disability or disabled veteran needs a reasonable accommodation to use or access our online system, that individual should please contact . . \\xa0\\xa0rbi general benefits package- 401k match of 5%- 18 days holiday- paid charity days – 2 days per year - benefits start the upon hire date- excellent ote & competitive salaries',\n",
       "  'advertiserurl': 'https://www.dice.com/jobs/detail/Software-Eng-%2526%252345-.NET%252C-full%2526%252345stack-dev%252C-perm-hire-with-us%2521-Reed-Business-Information-Boston-MA-02210/10493862/758282?icid=sr2334-78p&q=&l=Boston,%20MA'},\n",
       " {'uniq_id': '5c6814f09b30b017953c1586eeb2be56',\n",
       "  'jobtitle': 'sr. data architect',\n",
       "  'company': 'Maximus Inc',\n",
       "  'jobdescription': 'project/position introduction:maximus is a leading operator of government health and human services programs and has partnered with state, federal and local governments to provide critical, high quality health and human service programs to a diverse array of communities. operating under maximus’s founding mission of helping government serve the people® since 1975, maximus federal services is entirely focused on helping government agencies run programs cost-effectively and serve program constituents with improved outcomes. by being a responsible steward for government programs, we help the federal government deliver on its promises through our people, process and technology. our focus is always on outcomes and results that connect citizens more effectively with government services.\\xa0overview:maximus is looking for a sr. data architect with experience architecting, engineering and implementing complex enterprise data driven applications. the role will include data engineering, resource management, and implementation support. ideal candidate will have a wide range of experience architecting data solutions using the traditional data warehouse techniques and tools, and the more recent big data platforms and techniques. as a member of the strategic solutions group, the candidate must have proven experience to operate independently and demonstrate experience leading/guiding a team to architect, develop and implement data driven applications.\\xa0responsibilities:engage with internal teams to lead and develop data warehouse solutions, facilitate solutions design and manage implementationsreview, guide and support rfis, rfps and rfqs response development including writing of whitepapers and concept developmentlead and architect to program initiatives that span across data services, data warehouse, operations data stores, big data repositories, master data management and bi implementationsprovide technical solution support during proposal process, to include data platform identification, data warehouse and bi architecture, and implementation methodologydesign and develop specific solutions leveraging technologies and design practices that enable a scalable, extensible and flexible data management and integration solutions.develop and provide presentations and demonstrations of solutions to both internal and external stakeholders as neededextend and partner with internal/external resources to identify and contribute to continuous improvements of data solutions across multiple technologies and projects\\xa0the ideal candidate will possess the following additional education and experience:bachelor’s degree from an accredited college or university in computer science or related engineering field required or equivalent years of experiencemaster’s degree preferredminimum fifteen (15) years progressive experience developing and architecting data driven software solutions using a variety of data architecture concepts and frameworks including transactional modeling, dimensional modeling, data storage, data security, data governance, and architecting for big data enterprise requiredminimum eight (8) years of experience architecting data warehouse and bi solutions (including 2 full lifecycle implementations of enterprise business intelligence solutions). with at least 3 years of experience with big data platforms requiredfive (5)+ years of experience in leading designing and implementing data integration solutions that include big data, master data management and data integration requiredexperience with a variety of approaches and tools to successfully implement an enterprise data integration strategy requiredminimum eight (8) years of hands-on experience on leading data integration platforms to include informatica, odi, ibm data stage requiredexperience on one or more bi platforms to include obiee, business objects, cognos, sas, hadoop, map/reduce requiredminimum ten (10) years of extensive experience with sql and pl/sql, and more recently with nosql aggregation techniques and methods requiredstrong knowledge of data warehouse design methodologies, and processes including experience with operational management of data warehouse and bi solutions requiredhigh proficiency in sql on mysql, oracle db and mssql server, and nosql databases such as mongodb, and cassandrastrong demonstrated skills with analytical problem solving abilities, with proven capability to collaborate with other team members to solve problems while actively seeking input from sourcesstrong written and verbal communication skills, including presentation skills to senior management both internal and external including smes\\xa0\\xa0physical requirements:work is performed in a information technology environmentability to lift or transport items weighing up to 10 lbs.additional requirements as per contract/client:candidates must have the ability to obtain public trust - moderate risk security clearance\\xa0eeo statement:a committed and diverse workforce is our most important resource.maximus is an affirmative action/equal opportunity employer.maximus provides equal employment opportunities to all qualified applicants without regard to race, color, religion, sex, sexual orientation, gender identity, national origin, protected veteran status or disabled status.',\n",
       "  'advertiserurl': 'https://www.dice.com/jobs/detail/Sr.-Data-Architect-Maximus-Inc-Falls-Church-VA-22042/50050274/206-16159?icid=sr51423-1715p&q=&l=California,%20Us,%20CALIFORNIA'},\n",
       " {'uniq_id': '7e71d56a0a0f62d3e4e062b84131da29',\n",
       "  'jobtitle': 'full stack developer',\n",
       "  'company': 'Bay Area Techworkers',\n",
       "  'jobdescription': '***local candidates only***f2f required***please send resumes to shanthi.bala@techworkers.comsoftware engineer - full stackjob function:consistently deliver readable, maintainable and efficient code.troubleshoot programming problems independently and in peer groups.participate actively in scrums, sprint planning meetings, and sprint retrospectives.rapidly mockup a proof-of-concept implementation of an idea and present to internal stakeholders.staying informed of new tools, libraries, and best practices and sharing ideas with the team for continuous improvement of the tool-chain and development process.qualifications / requirements:4+ years of experience in full-stack software development, preferably using lean/agile/xp sdlc.proficiency in java (1.7 or later), junit, database technologies.experience developing web applications ( expertise in all/most of these ) - spring mvc, jpa, rest, jackson, soa, jpa solid understanding of linux or unix operating systems with expertise in bash, perl, php, python experience developing web applications (spring mvc, restful, jax-ws, web services) experience with front-end technologies such as javascript, html5, css, jquery, angularjs, web components, nodejs experience with database tools (jpa, spring data, hibernate, etc.) experience with modern tooling (eclipse / intellij, maven, npm, grunt, git, chef, cloud foundry, etc.) experience with big data / hadoop and nosql database is a plus knowledge of object oriented design, software design patterns and java coding principles solid knowledge of algorithms, design patterns, and componentization approaches and security protocols strong technical and analytical skills experience in software design patterns, problem solving and troubleshooting skills.strong attention to detailsdesired characteristicsexperience working with git, maven or gradle, cloud foundry, web services experience developing applications using reactive frameworks like nodejs, spring boot, play or a solid experience building applications on top of restful apis and micro services.ability write unit tests(tdd practices) for backend and frontend services experience with any of these frameworks or programming paradigms: play, akka, api gateways, reactive programming, java nio experience with api and micro services development with exposure to using a 12-factor apps experience big data technologies like hadoop, spark or iot will be a bonus exposure to building scalable, stateless, resilient & highly available applications and services like aws, azure, app engine, heroku, etc.\\xa0\\xa0\\xa0\\xa0',\n",
       "  'advertiserurl': 'https://www.dice.com/jobs/detail/Full-Stack-Developer-Bay-Area-Techworkers-San-Ramon-CA-94583/bati/SB-EG-SR-FSTCK?icid=sr6851-229p&q=&l=San%20Jose,%20CA'},\n",
       " {'uniq_id': 'bb78cd5bc6643406d765447f93b371f0',\n",
       "  'jobtitle': 'front end developer (with aws)',\n",
       "  'company': 'Adroit Resources',\n",
       "  'jobdescription': '!!adroit resources: working with great, fast growing companies and the best talent!!!!location: santa clara, ca --- contract -- long-term!!job description:you are driven, curious and passionate about your work; you are innovative, creative and focused on excellence; and you want to be part of an ego-free work environment where we value honest, healthy interactions and collaboration.you have at least 3 years of professional experience as a software engineer.you have excellent javascript skills, including ecmascript 6.you understand how to develop single page apps using component frameworks such as reactjs or angular, and have a strong understanding of the react component lifecycle.you are familiar with flux frameworks (e.g., redux, alt).you have knowledge of server/client interaction issues and solutions (e.g., cors, caching, restful apis, ajax, web application performance optimization, etc).you have strong knowledge of web technologies such as html and css.you are familiar with javascript packaging and build tools (npm, gulp, webpack, …).you are familiar with python programming.you understand cross-browser differences and web page loading.you have experience deploying web applications from github into aws, and with aws environment and tools (gateway, cloudfront, s3, ec2, …)you are comfortable with modern commercial software development practices: unit tests, code reviews, continuous deployment, secure and clean code.you hold a degree in computer science or a closely related field.experience with scrum would be great.excellent written and verbal communication skills are a must.',\n",
       "  'advertiserurl': 'https://www.dice.com/jobs/detail/Front-End-Developer-%2528with-AWS%2529-Adroit-Resources-San-Francisco-CA-94111/10439825d/628962?icid=sr7079-236p&q=&l=San%20Jose,%20CA'},\n",
       " {'uniq_id': '19efe1e35d5dd810857a855bf2fc238c',\n",
       "  'jobtitle': 'full stack developer',\n",
       "  'company': 'CroytenER',\n",
       "  'jobdescription': 'the full stack developer should have experience working with both front and backend development. you will work directly with end users to implement enhancements to existing and new ui along with middle and back end development. additionally, you will translate direct customer requirements and deliver a complete solution on agreed timeframes.key responsibilitiesbuild web-based applications using javascript, html5, css3, and ajax, single-page js frameworkswork in a high-spaced environment developing full stack applicationstranslate business requirements into system capabilities quicklybuild automation that contributes to improving processes and workflowsintegrate third-party tools into company systems to further our capabilities in a short time to marketqualifications bachelor’s degree required, preferably in computer science 5–7+ years of full stack development experience prior experience at start-ups or fast-paced environments experience working with restful apis operational experience working with platforms like aws experience with creating backend architecture using mysql, mongodb or nosql working knowledge of crm tools like marketo and salesforce entrepreneurial mindset and passion for emerging technologies ability to collaborate with stakeholders from local, national, and international constituencies excellent communication and creative-thinking skills, with an ability to use data to inform all decisions \\xa0',\n",
       "  'advertiserurl': 'https://www.dice.com/jobs/detail/Full-Stack-Developer-CroytenER-Boston-MA-02111/90962528/804540?icid=sr2907-97p&q=&l=Boston,%20MA'},\n",
       " {'uniq_id': 'e23900d0cad3455e874052fd16732d48',\n",
       "  'jobtitle': 'business analyst',\n",
       "  'company': 'Mitchell Martin',\n",
       "  'jobdescription': 'our client is seeking a business analyst . \\xa0 location: new york, ny position type: contract \\xa0 must have skills: - ba with front office experience (focus on equity research is preferred) project management exposure (manage several stakeholders & milestones during the project) statistical background advanced sql skills (postgresql is nice to have) . - understanding the concepts of data visualization, data catalogues and data warehouse/etl (extract transfer load) (hadoop is a nice to have.) \\xa0 -our client investment research is in the process of building a street-leading primary research platform called evidence lab.\\xa0 - at the heart of this capability is the ability to systematically gather, cleanse, structure and analyze primary data about the companies and markets that we do research on.\\xa0 - we are looking for a talented professional who lives and breathes data, understands data lifecycle and can help the business to explore and generate actionable insights from raw and sparse datasets. - business analyst will act as the owner of key data projects. - the person will work directly with the evidence lab team to understand their business requirements and define the scope of the projects. - the role also requires project management skills to coordinate with all the players in the data platform to deliver against project milestones and deadlines. \\xa0 responsibilities : - own new data projects from inception to delivery - gather requirements and define project scope and details with business stakeholders - coordinate with internal and external data providers on requirements and manage data logistics - establish data quality guidelines, review results and follow up on data quality day-to-day operations - deliver clear requirements to technology teams on data modeling or/and product development - support business stakeholders in building dashboards and visualization models - generate kpi reports on data projects and identify enhancement opportunities across products - coordinate project priorities and deliver results across multiple projects progressing simultaneously \\xa0 qualifications : - bachelor’s degree in engineering, science, finance or a related discipline - excellent project management skills and ability to prioritize issues - excellent oral and written communication, organizational and customer service skills - strong analytical and problem solving skills (data analysis and requirement documentation) - outstanding sql and pl/sql scripting skills (postgresql is a plus) - experience with reporting and data visualization/analysis tools (such as tableau) - microsoft excel guru (pivot tables, data analysis, charting, etc. ) - ability to work in a fast-paced environment; eager to learn and generate results under pressure - experience in data platform concepts (data ca talog, warehouse, etl, mdm, etc. ) - experience with working in hadoop and distributed computing frameworks is a plus - prior work with financial data is a plus',\n",
       "  'advertiserurl': 'https://www.dice.com/jobs/detail/Business-Analyst-Mitchell-Martin-New-York-NY-10001/mitchmar1/MITCA000J4078?icid=sr12089-403p&q=&l=California,%20Us,%20CALIFORNIA'},\n",
       " {'uniq_id': '630af38d561542f5fc318ae59b24c5b2',\n",
       "  'jobtitle': 'sr full stack engineer',\n",
       "  'company': 'Gorilla Logic, Inc.',\n",
       "  'jobdescription': \"about usgorilla logic provides custom application development services on the ground and in the cloud to many of the world's leading software-driven organizations. it has a rich history of applying software engineering best practices to reduce the time and cost of delivering high-quality, full-featured applications with advanced functionality. its technical leadership in mobile, rich internet and enterprise applications showcases its broad commitment to software development best practices and quality.\\xa0the detailscontract or full time employment - you choose!long term project in westminster, cowork to start immediately; flexible for 2-week noticewith full time employment, gorilla logic offers amazing health benefits and 401k with matching\\xa0 \\xa0 \\xa0perks: fun environment, close-knit team, endless opportunities within company, and developing very cool products!\\xa0senior full stack engineergorilla logic is working with our client, who is an industry leader in data driven marketing, to help build their team. we are looking for highly intelligent and capable sr. software engineers, working on both front end and back end development for their big data platform. based in westminster, colorado, this is a unique and highly technical role, requiring both front end and back end development experience in delivering a leading-edge platform solution. our environment will require you to work effectively with your teammates, of course. but your real success will be measured by how well you couple critical thinking with self-motivation, enthusiasm and determination.\\xa0 \\xa0responsibilitiesdevelop new and support existing application featuresdevelop web applications using react, javascript, html5 and cssdevelop service-based, server-side solutions in java, spring boot and dockerdevelop in a variety of database technologies including oracle and mysql\\xa0requirements5+ years of web development experienceprofessional experience with react or familiarity with react with professional experience in angularjs3+ years of development experience in java is requiredexperience working with the spring frameworkexperience with a java orm framework like hibernate and/or ibatisexperience with amazon web services particularly with lambda, mesos, rds and/or auto scalingmust have the ability to work in a dynamic, fast-paced environmentstrong communication skills to interact with agile team members\\xa0\\xa0bonus skillsexperience with web test frameworks like jasmine and/or cucumber is a plusexperience with spring boot a plusexperience with web charting/visualization frameworks like highcharts, d3 and/or kibana is a plus\\xa0education bachelor’s degree in computer science or related field (or equivalent experience)\",\n",
       "  'advertiserurl': 'https://www.dice.com/jobs/detail/Sr-Full-Stack-Engineer-Gorilla-Logic%252C-Inc.-Westminster-CO-80021/RTX12045c/629551?icid=sr57851-1929p&q=&l=California,%20Us,%20CALIFORNIA'},\n",
       " {'uniq_id': '5b323e787ce97a2de14dbd3ee813b2e2',\n",
       "  'jobtitle': 'node.js software developer virtual telecommute',\n",
       "  'company': 'Stratus Data Systems',\n",
       "  'jobdescription': \"we’re a software shop with an expert team, great products, and a huge opportunity to grow. we're building a fast, full featured, and visually appealing web app that advances the state of the art in the real estate industry. we’re goal oriented. hours are flexible. shipping a great product is a rock-solid requirement.\\xa0do you like javascript? we like javascript. we run it in the browser, we run it on the server, and we run it in the database. if you’re into node.js and mongodb as much as we are, we really want to hear from you!\\xa0requirements:\\xa0* you’re an expert with javascript, css and html* you’ve built applications with node.js, express, various middleware* you have experience with or are willing to learn mongodb* you’re proficient with sql and know or are willing to learn postgresql* you have a good understanding of jquery (and know when not to use it)* you are great at cross-browser debugging* you’ve got some experience with command-line mac os, linux, or windows* you have an organized, methodical approach, with attention to detail* you have strong written and verbal communication skills* you have reliable high-speed internet access from home\\xa0what you will do:\\xa0* build server-side application modules with node.js, mongodb, and postgresql* build client-side user interfaces with javascript, semantic html, and css* review other people's code and make recommendations and improvements* manage your work with github and github issues\\xa0other desirable skills:\\xa0* linux server administration* experience with at least one large client-side javascript framework (knockout, angular, backbone, etc.)* mobile web development experience (html and javascript)* microsoft sql / c# / .net / asp.net / classic asp — for interfacing with legacy systems\\xa0what's in it for you:\\xa0* experience with cutting edge technologies* be a part of a dynamic and effective team* help build a really cool application* competitive pay* work from home — no commute!* flexible schedule\",\n",
       "  'advertiserurl': 'https://www.dice.com/jobs/detail/Node.js-Software-Developer-Virtual-Telecommute-Stratus-Data-Systems-Scottsdale-AZ-85251/RTX163134/wspos691550?icid=sr62500-2084p&q=&l=California,%20Us,%20CALIFORNIA'}]"
      ]
     },
     "execution_count": 10,
     "metadata": {},
     "output_type": "execute_result"
    }
   ],
   "source": [
    "recommend('Full Stack Developer')"
   ]
  },
  {
   "cell_type": "code",
   "execution_count": 11,
   "id": "7e5e5470",
   "metadata": {},
   "outputs": [],
   "source": [
    "import pickle\n",
    "pickle.dump(job_df,open('df.pkl','wb'))\n",
    "pickle.dump(similarity,open('similarity.pkl','wb'))"
   ]
  },
  {
   "cell_type": "code",
   "execution_count": 12,
   "id": "239dc57f",
   "metadata": {},
   "outputs": [
    {
     "name": "stdout",
     "output_type": "stream",
     "text": [
      "2.2.2\n"
     ]
    }
   ],
   "source": [
    "import pandas as pd\n",
    "print(pd.__version__)\n"
   ]
  },
  {
   "cell_type": "code",
   "execution_count": null,
   "id": "382ee66f",
   "metadata": {},
   "outputs": [],
   "source": []
  }
 ],
 "metadata": {
  "kernelspec": {
   "display_name": "Python 3 (ipykernel)",
   "language": "python",
   "name": "python3"
  },
  "language_info": {
   "codemirror_mode": {
    "name": "ipython",
    "version": 3
   },
   "file_extension": ".py",
   "mimetype": "text/x-python",
   "name": "python",
   "nbconvert_exporter": "python",
   "pygments_lexer": "ipython3",
   "version": "3.11.7"
  }
 },
 "nbformat": 4,
 "nbformat_minor": 5
}
